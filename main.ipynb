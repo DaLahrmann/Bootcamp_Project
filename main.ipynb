{
 "cells": [
  {
   "cell_type": "code",
   "execution_count": 6,
   "metadata": {},
   "outputs": [],
   "source": [
    "import pandas as pd\n",
    "import numpy as np"
   ]
  },
  {
   "cell_type": "markdown",
   "metadata": {},
   "source": [
    "Read Data into python and clean columnames"
   ]
  },
  {
   "cell_type": "code",
   "execution_count": null,
   "metadata": {},
   "outputs": [],
   "source": [
    "# data=pd.read_csv('Fire_Department_Calls_for_Service_0.csv')  \n",
    "# transformation of time variables for this file took 1 h\n",
    "\n",
    "data=pd.read_csv('Fire_Department_Calls_for_Service_2.csv')\n",
    "data.columns = [x.lower().replace(' ','_').replace('-','') for x in data.columns]\n",
    "data.shape"
   ]
  },
  {
   "cell_type": "markdown",
   "metadata": {},
   "source": [
    "### Changing Types"
   ]
  },
  {
   "cell_type": "code",
   "execution_count": null,
   "metadata": {},
   "outputs": [],
   "source": [
    "data.dtypes\n"
   ]
  },
  {
   "cell_type": "markdown",
   "metadata": {},
   "source": [
    "all time variables are saved as objects => format change"
   ]
  },
  {
   "cell_type": "code",
   "execution_count": null,
   "metadata": {},
   "outputs": [],
   "source": [
    "from datetime import datetime\n",
    "\n",
    "timel=['call_date', 'watch_date', 'received_dttm', 'entry_dttm', 'dispatch_dttm',\n",
    "       'response_dttm', 'on_scene_dttm', 'transport_dttm', 'hospital_dttm', 'available_dttm']\n",
    "for t in timel:\n",
    "       data[t]=pd.to_datetime(data[t])\n",
    "       print(t)\n",
    "data.head(4).T"
   ]
  },
  {
   "cell_type": "markdown",
   "metadata": {},
   "source": [
    "### Dealing with Priority\n"
   ]
  },
  {
   "cell_type": "code",
   "execution_count": null,
   "metadata": {},
   "outputs": [],
   "source": [
    "display(data.original_priority.value_counts(dropna=False))\n",
    "display(data.priority.value_counts(dropna=False))\n",
    "display(data.final_priority.value_counts(dropna=False))"
   ]
  },
  {
   "cell_type": "markdown",
   "metadata": {},
   "source": [
    "Acording to the Data Dictionary follows that 3 means Emergency and 2 means and 3 means non-Emergency\n",
    "other types are nogt listed in the dictionary\n",
    "\n",
    "It is to mention that also the numbers in `original_priority` and  `priority` are saved as str and that the values in `final_priority` are saved as int. So this must be included inside the decoder."
   ]
  },
  {
   "cell_type": "code",
   "execution_count": null,
   "metadata": {},
   "outputs": [],
   "source": [
    "def prio(x):\n",
    "    if x in ['3', 3]:\n",
    "        return 'Emergency'\n",
    "    elif x in ['2', 2]:\n",
    "        return 'non-Emergency' \n",
    "    else:\n",
    "        return 'not known' \n",
    "\n",
    "\n",
    "data.original_priority=data.original_priority.apply(prio)\n",
    "data.final_priority=data.final_priority.apply(prio)\n",
    "data.priority=data.priority.apply(prio)\n",
    "data.head(4).T"
   ]
  },
  {
   "cell_type": "markdown",
   "metadata": {},
   "source": [
    "### City cleaning"
   ]
  },
  {
   "cell_type": "code",
   "execution_count": null,
   "metadata": {},
   "outputs": [],
   "source": [
    "data.city.value_counts(dropna=False)"
   ]
  },
  {
   "cell_type": "markdown",
   "metadata": {},
   "source": [
    "The format of `city` changed during time. (Can be seen by filtering for different years). This results in a list of different names for the same city. \n",
    "This will be fixed in this step."
   ]
  },
  {
   "cell_type": "code",
   "execution_count": null,
   "metadata": {},
   "outputs": [],
   "source": [
    "def cnames(x):\n",
    "    if x in ['SF','San Francisco','SAN FRANCISCO','SFO']:\n",
    "        return 'San Francisco'\n",
    "    elif x in ['TI','Treasure Isla', 'Treasure Island','TREASURE ISLAND']:\n",
    "        return 'Treasure Island'\n",
    "    elif x in ['Presidio','PR', 'PRESIDIO']:\n",
    "        return 'Presidio'\n",
    "    elif x in ['Yerba Buena', 'YB', 'YERBA BUENA IS']:\n",
    "        return 'Yerba Buena'\n",
    "    elif x in ['Hunters Point', 'HP', 'HUNTERS POINT']:\n",
    "        return 'Hunters Point'\n",
    "    elif x in ['Fort Mason', 'FM', 'Fort Mason', 'FORT MASON']:\n",
    "        return 'Fort Mason'\n",
    "    elif x in ['DC', 'Daly City','DALY CITY']:\n",
    "        return 'Daly City'\n",
    "    elif x in ['BN', 'Brisbane']:\n",
    "        return 'Brisbane'\n",
    "    elif x in ['OAK','Oakland']:\n",
    "        return 'Oakland'\n",
    "    elif x in ['AI','Angel Island']:\n",
    "        return 'Angel Island'\n",
    "\n",
    "data.city=data.city.apply(cnames)\n",
    "data.city.value_counts(dropna=False)"
   ]
  },
  {
   "cell_type": "markdown",
   "metadata": {},
   "source": [
    "The format of `box` is not consistent and incluedse ints, floats and strings. The direct transformation results to different errors."
   ]
  },
  {
   "cell_type": "code",
   "execution_count": null,
   "metadata": {},
   "outputs": [],
   "source": [
    "def boxtype(x):\n",
    "    if (type(x)== float) & (x==x):# change to int (second condition will be used  due to problems with nan)\n",
    "        x = int(x)\n",
    "    if type(x) == int:\n",
    "        x = str(x)\n",
    "    return x #output should be string (due to existinfg box numbers like 0231)\n",
    "\n",
    "print(len(data.box.unique()))\n",
    "data.box=data.box.apply(boxtype)\n",
    "print(len(data.box.unique()))\n"
   ]
  },
  {
   "cell_type": "markdown",
   "metadata": {},
   "source": [
    "`case_location` has the format: 'POINT (longitude latitude)'\n",
    "\n",
    "Get new columns with longitude and latitude"
   ]
  },
  {
   "cell_type": "code",
   "execution_count": null,
   "metadata": {},
   "outputs": [],
   "source": [
    "def locdecode_lo(x):\n",
    "    #string operations throws errors if there will be used on NaNs\n",
    "    if x==x:\n",
    "        u=x.split() #split into [ POINT, (longitude , latitude) ]\n",
    "        longitude = float(u[1][1:]) # second brackets will be used to exlude the brackets '(' and ')' \n",
    "        latitude = float(u[2][:-1])\n",
    "        return longitude\n",
    "def locdecode_la(x):\n",
    "    #string operations throws errors if there will be used on NaNs\n",
    "    if x==x:\n",
    "        u=x.split() #split into [ POINT, (longitude , latitude) ]\n",
    "        longitude = float(u[1][1:]) # second brackets will be used to exlude the brackets '(' and ')' \n",
    "        latitude = float(u[2][:-1])\n",
    "        return latitude\n",
    "\n",
    "# make an apply function which works on the row, to create the lonigtude and latitude column at once takes much longer as running these two functions\n",
    "data['longitude']=data.case_location.apply(locdecode_lo)\n",
    "data['latitude']=data.case_location.apply(locdecode_la)\n",
    "data.head().T"
   ]
  },
  {
   "cell_type": "markdown",
   "metadata": {},
   "source": [
    "### Dealing with NaN"
   ]
  },
  {
   "cell_type": "code",
   "execution_count": null,
   "metadata": {},
   "outputs": [],
   "source": [
    "data.isna().sum()"
   ]
  },
  {
   "cell_type": "markdown",
   "metadata": {},
   "source": [
    "If `case_location` is not known and so the `longitude` and `latitude`, we can look on other incidence at the same address "
   ]
  },
  {
   "cell_type": "code",
   "execution_count": null,
   "metadata": {},
   "outputs": [],
   "source": [
    "data[data.case_location.isna()].address.value_counts(dropna=False)\n",
    "data[data.address == '1700 Block of MARKET ST'].case_location.value_counts(dropna=False)"
   ]
  },
  {
   "cell_type": "markdown",
   "metadata": {},
   "source": [
    "specially for the summed up addresses like 'x Block of h Street' there exist multiple similiar  coordinates. Try to get coordinates by computing the mean location of the address "
   ]
  },
  {
   "cell_type": "code",
   "execution_count": null,
   "metadata": {},
   "outputs": [],
   "source": [
    "#def locfill(u,address):\n",
    "data2=data[data.longitude.isna()].copy()\n",
    "def locfill(row):\n",
    "    row.longitude=data[data.address == row.address].longitude.mean()\n",
    "    row.latitude=data[data.address == row.address].latitude.mean()\n",
    "    return row\n",
    "\n",
    "\n",
    "data2=data2.apply(locfill,axis=1)\n",
    "data2.head().T\n"
   ]
  },
  {
   "cell_type": "code",
   "execution_count": null,
   "metadata": {},
   "outputs": [],
   "source": [
    "data[data.longitude.isna()]=data2\n",
    "data.isna().sum()"
   ]
  },
  {
   "cell_type": "code",
   "execution_count": null,
   "metadata": {},
   "outputs": [],
   "source": [
    "display(data[data.longitude.isna()].address)\n",
    "data[data.address == '1800 Block of BLK EVANS AV'].longitude.value_counts(dropna=False)"
   ]
  },
  {
   "cell_type": "code",
   "execution_count": null,
   "metadata": {},
   "outputs": [],
   "source": [
    "# the last 6 entries without gps does not have data to compare => drop it\n",
    "\n",
    "data=data[~data.longitude.isna()]\n",
    "data.isna().sum()"
   ]
  },
  {
   "cell_type": "code",
   "execution_count": null,
   "metadata": {},
   "outputs": [],
   "source": [
    "data.to_csv('Fire_Department_Calls_for_Service_2.csv', index=False)\n",
    "\n",
    "data[data.box.isna()].address.value_counts()"
   ]
  },
  {
   "cell_type": "markdown",
   "metadata": {},
   "source": [
    "### Analysation"
   ]
  },
  {
   "cell_type": "code",
   "execution_count": 8,
   "metadata": {},
   "outputs": [
    {
     "name": "stderr",
     "output_type": "stream",
     "text": [
      "C:\\Users\\lahrm\\anaconda3\\lib\\site-packages\\IPython\\core\\interactiveshell.py:3444: DtypeWarning: Columns (19,20,25,30) have mixed types.Specify dtype option on import or set low_memory=False.\n",
      "  exec(code_obj, self.user_global_ns, self.user_ns)\n"
     ]
    }
   ],
   "source": [
    "data=pd.read_csv('Fire_Department_Calls_for_Service_2.csv')\n"
   ]
  },
  {
   "cell_type": "code",
   "execution_count": 9,
   "metadata": {},
   "outputs": [
    {
     "data": {
      "text/plain": [
       "Other                         2536699\n",
       "Code 2 Transport              1677835\n",
       "Fire                           762919\n",
       "Patient Declined Transport     207583\n",
       "No Merit                       184125\n",
       "Code 3 Transport               143886\n",
       "Cancelled                       61535\n",
       "Against Medical Advice          60287\n",
       "Unable to Locate                57813\n",
       "Medical Examiner                43139\n",
       "SFPD                            29225\n",
       "Gone on Arrival                 17340\n",
       "Duplicate                        1370\n",
       "CHP                               935\n",
       "Multi-casualty Incident           294\n",
       "Name: call_final_disposition, dtype: int64"
      ]
     },
     "execution_count": 9,
     "metadata": {},
     "output_type": "execute_result"
    }
   ],
   "source": [
    "data.call_final_disposition.value_counts(dropna=False)"
   ]
  },
  {
   "cell_type": "code",
   "execution_count": 10,
   "metadata": {},
   "outputs": [
    {
     "name": "stdout",
     "output_type": "stream",
     "text": [
      "call_date\n",
      "watch_date\n",
      "received_dttm\n",
      "entry_dttm\n",
      "dispatch_dttm\n",
      "response_dttm\n",
      "on_scene_dttm\n",
      "transport_dttm\n",
      "hospital_dttm\n",
      "available_dttm\n"
     ]
    }
   ],
   "source": [
    "from datetime import datetime\n",
    "\n",
    "timel=['call_date', 'watch_date', 'received_dttm', 'entry_dttm', 'dispatch_dttm',\n",
    "       'response_dttm', 'on_scene_dttm', 'transport_dttm', 'hospital_dttm', 'available_dttm']\n",
    "for t in timel:\n",
    "       data[t]=pd.to_datetime(data[t])\n",
    "       print(t)"
   ]
  },
  {
   "cell_type": "markdown",
   "metadata": {},
   "source": [
    "Getting time variables for grooping"
   ]
  },
  {
   "cell_type": "code",
   "execution_count": 11,
   "metadata": {},
   "outputs": [
    {
     "data": {
      "text/html": [
       "<div>\n",
       "<style scoped>\n",
       "    .dataframe tbody tr th:only-of-type {\n",
       "        vertical-align: middle;\n",
       "    }\n",
       "\n",
       "    .dataframe tbody tr th {\n",
       "        vertical-align: top;\n",
       "    }\n",
       "\n",
       "    .dataframe thead th {\n",
       "        text-align: right;\n",
       "    }\n",
       "</style>\n",
       "<table border=\"1\" class=\"dataframe\">\n",
       "  <thead>\n",
       "    <tr style=\"text-align: right;\">\n",
       "      <th></th>\n",
       "      <th>0</th>\n",
       "      <th>1</th>\n",
       "      <th>2</th>\n",
       "      <th>3</th>\n",
       "    </tr>\n",
       "  </thead>\n",
       "  <tbody>\n",
       "    <tr>\n",
       "      <th>call_number</th>\n",
       "      <td>211220229</td>\n",
       "      <td>213150159</td>\n",
       "      <td>210690030</td>\n",
       "      <td>210391607</td>\n",
       "    </tr>\n",
       "    <tr>\n",
       "      <th>unit_id</th>\n",
       "      <td>54</td>\n",
       "      <td>T13</td>\n",
       "      <td>T03</td>\n",
       "      <td>E19</td>\n",
       "    </tr>\n",
       "    <tr>\n",
       "      <th>incident_number</th>\n",
       "      <td>21052265</td>\n",
       "      <td>21138532</td>\n",
       "      <td>21030278</td>\n",
       "      <td>21017645</td>\n",
       "    </tr>\n",
       "    <tr>\n",
       "      <th>call_type</th>\n",
       "      <td>Medical Incident</td>\n",
       "      <td>Alarms</td>\n",
       "      <td>Alarms</td>\n",
       "      <td>Alarms</td>\n",
       "    </tr>\n",
       "    <tr>\n",
       "      <th>call_date</th>\n",
       "      <td>2021-05-02 00:00:00</td>\n",
       "      <td>2021-11-11 00:00:00</td>\n",
       "      <td>2021-03-10 00:00:00</td>\n",
       "      <td>2021-02-08 00:00:00</td>\n",
       "    </tr>\n",
       "    <tr>\n",
       "      <th>watch_date</th>\n",
       "      <td>2021-05-01 00:00:00</td>\n",
       "      <td>2021-11-10 00:00:00</td>\n",
       "      <td>2021-03-09 00:00:00</td>\n",
       "      <td>2021-02-08 00:00:00</td>\n",
       "    </tr>\n",
       "    <tr>\n",
       "      <th>received_dttm</th>\n",
       "      <td>2021-05-02 02:52:22</td>\n",
       "      <td>2021-11-11 01:45:25</td>\n",
       "      <td>2021-03-10 00:16:03</td>\n",
       "      <td>2021-02-08 13:00:14</td>\n",
       "    </tr>\n",
       "    <tr>\n",
       "      <th>entry_dttm</th>\n",
       "      <td>2021-05-02 02:54:09</td>\n",
       "      <td>2021-11-11 01:46:46</td>\n",
       "      <td>2021-03-10 00:18:36</td>\n",
       "      <td>2021-02-08 13:01:36</td>\n",
       "    </tr>\n",
       "    <tr>\n",
       "      <th>dispatch_dttm</th>\n",
       "      <td>2021-05-02 02:54:17</td>\n",
       "      <td>2021-11-11 01:47:12</td>\n",
       "      <td>2021-03-10 00:19:01</td>\n",
       "      <td>2021-02-08 13:01:40</td>\n",
       "    </tr>\n",
       "    <tr>\n",
       "      <th>response_dttm</th>\n",
       "      <td>2021-05-02 02:54:22</td>\n",
       "      <td>2021-11-11 01:49:56</td>\n",
       "      <td>2021-03-10 00:20:15</td>\n",
       "      <td>2021-02-08 13:03:21</td>\n",
       "    </tr>\n",
       "    <tr>\n",
       "      <th>on_scene_dttm</th>\n",
       "      <td>2021-05-02 03:03:37</td>\n",
       "      <td>2021-11-11 01:54:21</td>\n",
       "      <td>NaT</td>\n",
       "      <td>2021-02-08 13:05:44</td>\n",
       "    </tr>\n",
       "    <tr>\n",
       "      <th>transport_dttm</th>\n",
       "      <td>2021-05-02 03:25:27</td>\n",
       "      <td>NaT</td>\n",
       "      <td>NaT</td>\n",
       "      <td>NaT</td>\n",
       "    </tr>\n",
       "    <tr>\n",
       "      <th>hospital_dttm</th>\n",
       "      <td>2021-05-02 03:50:51</td>\n",
       "      <td>NaT</td>\n",
       "      <td>NaT</td>\n",
       "      <td>NaT</td>\n",
       "    </tr>\n",
       "    <tr>\n",
       "      <th>call_final_disposition</th>\n",
       "      <td>Code 2 Transport</td>\n",
       "      <td>Fire</td>\n",
       "      <td>Fire</td>\n",
       "      <td>Fire</td>\n",
       "    </tr>\n",
       "    <tr>\n",
       "      <th>available_dttm</th>\n",
       "      <td>2021-05-02 04:22:26</td>\n",
       "      <td>2021-11-11 02:21:37</td>\n",
       "      <td>2021-03-10 00:28:42</td>\n",
       "      <td>2021-02-08 13:18:09</td>\n",
       "    </tr>\n",
       "    <tr>\n",
       "      <th>address</th>\n",
       "      <td>600 Block of HURON AVE</td>\n",
       "      <td>200 Block of SUTTER ST</td>\n",
       "      <td>1300 Block of MARKET ST</td>\n",
       "      <td>400 Block of SERRANO DR</td>\n",
       "    </tr>\n",
       "    <tr>\n",
       "      <th>city</th>\n",
       "      <td>San Francisco</td>\n",
       "      <td>San Francisco</td>\n",
       "      <td>San Francisco</td>\n",
       "      <td>San Francisco</td>\n",
       "    </tr>\n",
       "    <tr>\n",
       "      <th>zipcode_of_incident</th>\n",
       "      <td>94112.0</td>\n",
       "      <td>94108.0</td>\n",
       "      <td>94102.0</td>\n",
       "      <td>94132.0</td>\n",
       "    </tr>\n",
       "    <tr>\n",
       "      <th>battalion</th>\n",
       "      <td>B09</td>\n",
       "      <td>B01</td>\n",
       "      <td>B02</td>\n",
       "      <td>B08</td>\n",
       "    </tr>\n",
       "    <tr>\n",
       "      <th>station_area</th>\n",
       "      <td>33.0</td>\n",
       "      <td>13.0</td>\n",
       "      <td>36.0</td>\n",
       "      <td>19.0</td>\n",
       "    </tr>\n",
       "    <tr>\n",
       "      <th>box</th>\n",
       "      <td>8347</td>\n",
       "      <td>1242</td>\n",
       "      <td>3111</td>\n",
       "      <td>8581</td>\n",
       "    </tr>\n",
       "    <tr>\n",
       "      <th>original_priority</th>\n",
       "      <td>Emergency</td>\n",
       "      <td>Emergency</td>\n",
       "      <td>Emergency</td>\n",
       "      <td>Emergency</td>\n",
       "    </tr>\n",
       "    <tr>\n",
       "      <th>priority</th>\n",
       "      <td>non-Emergency</td>\n",
       "      <td>Emergency</td>\n",
       "      <td>Emergency</td>\n",
       "      <td>Emergency</td>\n",
       "    </tr>\n",
       "    <tr>\n",
       "      <th>final_priority</th>\n",
       "      <td>non-Emergency</td>\n",
       "      <td>Emergency</td>\n",
       "      <td>Emergency</td>\n",
       "      <td>Emergency</td>\n",
       "    </tr>\n",
       "    <tr>\n",
       "      <th>als_unit</th>\n",
       "      <td>True</td>\n",
       "      <td>False</td>\n",
       "      <td>False</td>\n",
       "      <td>True</td>\n",
       "    </tr>\n",
       "    <tr>\n",
       "      <th>call_type_group</th>\n",
       "      <td>Non Life-threatening</td>\n",
       "      <td>Alarm</td>\n",
       "      <td>Alarm</td>\n",
       "      <td>Alarm</td>\n",
       "    </tr>\n",
       "    <tr>\n",
       "      <th>number_of_alarms</th>\n",
       "      <td>1</td>\n",
       "      <td>1</td>\n",
       "      <td>1</td>\n",
       "      <td>1</td>\n",
       "    </tr>\n",
       "    <tr>\n",
       "      <th>unit_type</th>\n",
       "      <td>MEDIC</td>\n",
       "      <td>TRUCK</td>\n",
       "      <td>TRUCK</td>\n",
       "      <td>ENGINE</td>\n",
       "    </tr>\n",
       "    <tr>\n",
       "      <th>unit_sequence_in_call_dispatch</th>\n",
       "      <td>2.0</td>\n",
       "      <td>1.0</td>\n",
       "      <td>3.0</td>\n",
       "      <td>1.0</td>\n",
       "    </tr>\n",
       "    <tr>\n",
       "      <th>fire_prevention_district</th>\n",
       "      <td>9</td>\n",
       "      <td>1</td>\n",
       "      <td>2</td>\n",
       "      <td>8</td>\n",
       "    </tr>\n",
       "    <tr>\n",
       "      <th>supervisor_district</th>\n",
       "      <td>11</td>\n",
       "      <td>3</td>\n",
       "      <td>6</td>\n",
       "      <td>7</td>\n",
       "    </tr>\n",
       "    <tr>\n",
       "      <th>neighborhooods__analysis_boundaries</th>\n",
       "      <td>Outer Mission</td>\n",
       "      <td>Financial District/South Beach</td>\n",
       "      <td>Tenderloin</td>\n",
       "      <td>Lakeshore</td>\n",
       "    </tr>\n",
       "    <tr>\n",
       "      <th>rowid</th>\n",
       "      <td>211220229-54</td>\n",
       "      <td>213150159-T13</td>\n",
       "      <td>210690030-T03</td>\n",
       "      <td>210391607-E19</td>\n",
       "    </tr>\n",
       "    <tr>\n",
       "      <th>case_location</th>\n",
       "      <td>POINT (-122.44916885747516 37.71245377965039)</td>\n",
       "      <td>POINT (-122.40481437114843 37.789761426544466)</td>\n",
       "      <td>POINT (-122.41697932641094 37.7770834641944)</td>\n",
       "      <td>POINT (-122.48045074945836 37.7190118676788)</td>\n",
       "    </tr>\n",
       "    <tr>\n",
       "      <th>analysis_neighborhoods</th>\n",
       "      <td>28.0</td>\n",
       "      <td>8.0</td>\n",
       "      <td>36.0</td>\n",
       "      <td>16.0</td>\n",
       "    </tr>\n",
       "    <tr>\n",
       "      <th>longitude</th>\n",
       "      <td>-122.449169</td>\n",
       "      <td>-122.404814</td>\n",
       "      <td>-122.416979</td>\n",
       "      <td>-122.480451</td>\n",
       "    </tr>\n",
       "    <tr>\n",
       "      <th>latitude</th>\n",
       "      <td>37.712454</td>\n",
       "      <td>37.789761</td>\n",
       "      <td>37.777083</td>\n",
       "      <td>37.719012</td>\n",
       "    </tr>\n",
       "    <tr>\n",
       "      <th>iyear</th>\n",
       "      <td>2021</td>\n",
       "      <td>2021</td>\n",
       "      <td>2021</td>\n",
       "      <td>2021</td>\n",
       "    </tr>\n",
       "    <tr>\n",
       "      <th>iweekday</th>\n",
       "      <td>6</td>\n",
       "      <td>3</td>\n",
       "      <td>2</td>\n",
       "      <td>0</td>\n",
       "    </tr>\n",
       "    <tr>\n",
       "      <th>imonth</th>\n",
       "      <td>5</td>\n",
       "      <td>11</td>\n",
       "      <td>3</td>\n",
       "      <td>2</td>\n",
       "    </tr>\n",
       "  </tbody>\n",
       "</table>\n",
       "</div>"
      ],
      "text/plain": [
       "                                                                                 0  \\\n",
       "call_number                                                              211220229   \n",
       "unit_id                                                                         54   \n",
       "incident_number                                                           21052265   \n",
       "call_type                                                         Medical Incident   \n",
       "call_date                                                      2021-05-02 00:00:00   \n",
       "watch_date                                                     2021-05-01 00:00:00   \n",
       "received_dttm                                                  2021-05-02 02:52:22   \n",
       "entry_dttm                                                     2021-05-02 02:54:09   \n",
       "dispatch_dttm                                                  2021-05-02 02:54:17   \n",
       "response_dttm                                                  2021-05-02 02:54:22   \n",
       "on_scene_dttm                                                  2021-05-02 03:03:37   \n",
       "transport_dttm                                                 2021-05-02 03:25:27   \n",
       "hospital_dttm                                                  2021-05-02 03:50:51   \n",
       "call_final_disposition                                            Code 2 Transport   \n",
       "available_dttm                                                 2021-05-02 04:22:26   \n",
       "address                                                     600 Block of HURON AVE   \n",
       "city                                                                 San Francisco   \n",
       "zipcode_of_incident                                                        94112.0   \n",
       "battalion                                                                      B09   \n",
       "station_area                                                                  33.0   \n",
       "box                                                                           8347   \n",
       "original_priority                                                        Emergency   \n",
       "priority                                                             non-Emergency   \n",
       "final_priority                                                       non-Emergency   \n",
       "als_unit                                                                      True   \n",
       "call_type_group                                               Non Life-threatening   \n",
       "number_of_alarms                                                                 1   \n",
       "unit_type                                                                    MEDIC   \n",
       "unit_sequence_in_call_dispatch                                                 2.0   \n",
       "fire_prevention_district                                                         9   \n",
       "supervisor_district                                                             11   \n",
       "neighborhooods__analysis_boundaries                                  Outer Mission   \n",
       "rowid                                                                 211220229-54   \n",
       "case_location                        POINT (-122.44916885747516 37.71245377965039)   \n",
       "analysis_neighborhoods                                                        28.0   \n",
       "longitude                                                              -122.449169   \n",
       "latitude                                                                 37.712454   \n",
       "iyear                                                                         2021   \n",
       "iweekday                                                                         6   \n",
       "imonth                                                                           5   \n",
       "\n",
       "                                                                                  1  \\\n",
       "call_number                                                               213150159   \n",
       "unit_id                                                                         T13   \n",
       "incident_number                                                            21138532   \n",
       "call_type                                                                    Alarms   \n",
       "call_date                                                       2021-11-11 00:00:00   \n",
       "watch_date                                                      2021-11-10 00:00:00   \n",
       "received_dttm                                                   2021-11-11 01:45:25   \n",
       "entry_dttm                                                      2021-11-11 01:46:46   \n",
       "dispatch_dttm                                                   2021-11-11 01:47:12   \n",
       "response_dttm                                                   2021-11-11 01:49:56   \n",
       "on_scene_dttm                                                   2021-11-11 01:54:21   \n",
       "transport_dttm                                                                  NaT   \n",
       "hospital_dttm                                                                   NaT   \n",
       "call_final_disposition                                                         Fire   \n",
       "available_dttm                                                  2021-11-11 02:21:37   \n",
       "address                                                      200 Block of SUTTER ST   \n",
       "city                                                                  San Francisco   \n",
       "zipcode_of_incident                                                         94108.0   \n",
       "battalion                                                                       B01   \n",
       "station_area                                                                   13.0   \n",
       "box                                                                            1242   \n",
       "original_priority                                                         Emergency   \n",
       "priority                                                                  Emergency   \n",
       "final_priority                                                            Emergency   \n",
       "als_unit                                                                      False   \n",
       "call_type_group                                                               Alarm   \n",
       "number_of_alarms                                                                  1   \n",
       "unit_type                                                                     TRUCK   \n",
       "unit_sequence_in_call_dispatch                                                  1.0   \n",
       "fire_prevention_district                                                          1   \n",
       "supervisor_district                                                               3   \n",
       "neighborhooods__analysis_boundaries                  Financial District/South Beach   \n",
       "rowid                                                                 213150159-T13   \n",
       "case_location                        POINT (-122.40481437114843 37.789761426544466)   \n",
       "analysis_neighborhoods                                                          8.0   \n",
       "longitude                                                               -122.404814   \n",
       "latitude                                                                  37.789761   \n",
       "iyear                                                                          2021   \n",
       "iweekday                                                                          3   \n",
       "imonth                                                                           11   \n",
       "\n",
       "                                                                                2  \\\n",
       "call_number                                                             210690030   \n",
       "unit_id                                                                       T03   \n",
       "incident_number                                                          21030278   \n",
       "call_type                                                                  Alarms   \n",
       "call_date                                                     2021-03-10 00:00:00   \n",
       "watch_date                                                    2021-03-09 00:00:00   \n",
       "received_dttm                                                 2021-03-10 00:16:03   \n",
       "entry_dttm                                                    2021-03-10 00:18:36   \n",
       "dispatch_dttm                                                 2021-03-10 00:19:01   \n",
       "response_dttm                                                 2021-03-10 00:20:15   \n",
       "on_scene_dttm                                                                 NaT   \n",
       "transport_dttm                                                                NaT   \n",
       "hospital_dttm                                                                 NaT   \n",
       "call_final_disposition                                                       Fire   \n",
       "available_dttm                                                2021-03-10 00:28:42   \n",
       "address                                                   1300 Block of MARKET ST   \n",
       "city                                                                San Francisco   \n",
       "zipcode_of_incident                                                       94102.0   \n",
       "battalion                                                                     B02   \n",
       "station_area                                                                 36.0   \n",
       "box                                                                          3111   \n",
       "original_priority                                                       Emergency   \n",
       "priority                                                                Emergency   \n",
       "final_priority                                                          Emergency   \n",
       "als_unit                                                                    False   \n",
       "call_type_group                                                             Alarm   \n",
       "number_of_alarms                                                                1   \n",
       "unit_type                                                                   TRUCK   \n",
       "unit_sequence_in_call_dispatch                                                3.0   \n",
       "fire_prevention_district                                                        2   \n",
       "supervisor_district                                                             6   \n",
       "neighborhooods__analysis_boundaries                                    Tenderloin   \n",
       "rowid                                                               210690030-T03   \n",
       "case_location                        POINT (-122.41697932641094 37.7770834641944)   \n",
       "analysis_neighborhoods                                                       36.0   \n",
       "longitude                                                             -122.416979   \n",
       "latitude                                                                37.777083   \n",
       "iyear                                                                        2021   \n",
       "iweekday                                                                        2   \n",
       "imonth                                                                          3   \n",
       "\n",
       "                                                                                3  \n",
       "call_number                                                             210391607  \n",
       "unit_id                                                                       E19  \n",
       "incident_number                                                          21017645  \n",
       "call_type                                                                  Alarms  \n",
       "call_date                                                     2021-02-08 00:00:00  \n",
       "watch_date                                                    2021-02-08 00:00:00  \n",
       "received_dttm                                                 2021-02-08 13:00:14  \n",
       "entry_dttm                                                    2021-02-08 13:01:36  \n",
       "dispatch_dttm                                                 2021-02-08 13:01:40  \n",
       "response_dttm                                                 2021-02-08 13:03:21  \n",
       "on_scene_dttm                                                 2021-02-08 13:05:44  \n",
       "transport_dttm                                                                NaT  \n",
       "hospital_dttm                                                                 NaT  \n",
       "call_final_disposition                                                       Fire  \n",
       "available_dttm                                                2021-02-08 13:18:09  \n",
       "address                                                   400 Block of SERRANO DR  \n",
       "city                                                                San Francisco  \n",
       "zipcode_of_incident                                                       94132.0  \n",
       "battalion                                                                     B08  \n",
       "station_area                                                                 19.0  \n",
       "box                                                                          8581  \n",
       "original_priority                                                       Emergency  \n",
       "priority                                                                Emergency  \n",
       "final_priority                                                          Emergency  \n",
       "als_unit                                                                     True  \n",
       "call_type_group                                                             Alarm  \n",
       "number_of_alarms                                                                1  \n",
       "unit_type                                                                  ENGINE  \n",
       "unit_sequence_in_call_dispatch                                                1.0  \n",
       "fire_prevention_district                                                        8  \n",
       "supervisor_district                                                             7  \n",
       "neighborhooods__analysis_boundaries                                     Lakeshore  \n",
       "rowid                                                               210391607-E19  \n",
       "case_location                        POINT (-122.48045074945836 37.7190118676788)  \n",
       "analysis_neighborhoods                                                       16.0  \n",
       "longitude                                                             -122.480451  \n",
       "latitude                                                                37.719012  \n",
       "iyear                                                                        2021  \n",
       "iweekday                                                                        0  \n",
       "imonth                                                                          2  "
      ]
     },
     "execution_count": 11,
     "metadata": {},
     "output_type": "execute_result"
    }
   ],
   "source": [
    "data['iyear']=data.call_date.apply(lambda x: x.year)\n",
    "data['iweekday']=data.call_date.apply(lambda x: x.weekday())\n",
    "data['imonth']=data.call_date.apply(lambda x: x.month)\n",
    "data.head(4).T"
   ]
  },
  {
   "cell_type": "markdown",
   "metadata": {},
   "source": [
    "Look the number of calls at different weekdays "
   ]
  },
  {
   "cell_type": "code",
   "execution_count": 12,
   "metadata": {},
   "outputs": [
    {
     "data": {
      "image/png": "[encoded data removed]",
      "text/plain": [
       "<Figure size 432x288 with 1 Axes>"
      ]
     },
     "metadata": {
      "needs_background": "light"
     },
     "output_type": "display_data"
    },
    {
     "data": {
      "text/plain": [
       "4    855033\n",
       "5    849044\n",
       "3    822190\n",
       "0    819410\n",
       "6    815153\n",
       "2    814863\n",
       "1    809292\n",
       "Name: iweekday, dtype: int64"
      ]
     },
     "execution_count": 12,
     "metadata": {},
     "output_type": "execute_result"
    }
   ],
   "source": [
    "import seaborn as sns\n",
    "import matplotlib.pyplot as plt\n",
    "\n",
    "weekday_data=data.iweekday.value_counts()\n",
    "\n",
    "plt.plot(weekday_data)\n",
    "plt.show()\n",
    "weekday_data"
   ]
  },
  {
   "cell_type": "code",
   "execution_count": 13,
   "metadata": {},
   "outputs": [
    {
     "data": {
      "text/plain": [
       "<AxesSubplot:xlabel='call_date'>"
      ]
     },
     "execution_count": 13,
     "metadata": {},
     "output_type": "execute_result"
    },
    {
     "data": {
      "image/png": "[encoded data removed]",
      "text/plain": [
       "<Figure size 432x288 with 1 Axes>"
      ]
     },
     "metadata": {
      "needs_background": "light"
     },
     "output_type": "display_data"
    }
   ],
   "source": [
    "daycount=pd.pivot_table(data,index='call_date',values='incident_number', aggfunc=lambda x: len(x.unique()))\n",
    "daycount.plot()"
   ]
  },
  {
   "cell_type": "code",
   "execution_count": 14,
   "metadata": {},
   "outputs": [
    {
     "data": {
      "text/html": [
       "<div>\n",
       "<style scoped>\n",
       "    .dataframe tbody tr th:only-of-type {\n",
       "        vertical-align: middle;\n",
       "    }\n",
       "\n",
       "    .dataframe tbody tr th {\n",
       "        vertical-align: top;\n",
       "    }\n",
       "\n",
       "    .dataframe thead th {\n",
       "        text-align: right;\n",
       "    }\n",
       "</style>\n",
       "<table border=\"1\" class=\"dataframe\">\n",
       "  <thead>\n",
       "    <tr style=\"text-align: right;\">\n",
       "      <th></th>\n",
       "      <th>call_date</th>\n",
       "      <th>number_of_incidents</th>\n",
       "    </tr>\n",
       "  </thead>\n",
       "  <tbody>\n",
       "    <tr>\n",
       "      <th>0</th>\n",
       "      <td>2000-04-12</td>\n",
       "      <td>37</td>\n",
       "    </tr>\n",
       "    <tr>\n",
       "      <th>1</th>\n",
       "      <td>2000-04-13</td>\n",
       "      <td>252</td>\n",
       "    </tr>\n",
       "    <tr>\n",
       "      <th>2</th>\n",
       "      <td>2000-04-14</td>\n",
       "      <td>319</td>\n",
       "    </tr>\n",
       "    <tr>\n",
       "      <th>3</th>\n",
       "      <td>2000-04-15</td>\n",
       "      <td>286</td>\n",
       "    </tr>\n",
       "    <tr>\n",
       "      <th>4</th>\n",
       "      <td>2000-04-16</td>\n",
       "      <td>303</td>\n",
       "    </tr>\n",
       "    <tr>\n",
       "      <th>...</th>\n",
       "      <td>...</td>\n",
       "      <td>...</td>\n",
       "    </tr>\n",
       "    <tr>\n",
       "      <th>7965</th>\n",
       "      <td>2022-02-03</td>\n",
       "      <td>451</td>\n",
       "    </tr>\n",
       "    <tr>\n",
       "      <th>7966</th>\n",
       "      <td>2022-02-04</td>\n",
       "      <td>471</td>\n",
       "    </tr>\n",
       "    <tr>\n",
       "      <th>7967</th>\n",
       "      <td>2022-02-05</td>\n",
       "      <td>446</td>\n",
       "    </tr>\n",
       "    <tr>\n",
       "      <th>7968</th>\n",
       "      <td>2022-02-06</td>\n",
       "      <td>425</td>\n",
       "    </tr>\n",
       "    <tr>\n",
       "      <th>7969</th>\n",
       "      <td>2022-02-07</td>\n",
       "      <td>34</td>\n",
       "    </tr>\n",
       "  </tbody>\n",
       "</table>\n",
       "<p>7970 rows × 2 columns</p>\n",
       "</div>"
      ],
      "text/plain": [
       "      call_date  number_of_incidents\n",
       "0    2000-04-12                   37\n",
       "1    2000-04-13                  252\n",
       "2    2000-04-14                  319\n",
       "3    2000-04-15                  286\n",
       "4    2000-04-16                  303\n",
       "...         ...                  ...\n",
       "7965 2022-02-03                  451\n",
       "7966 2022-02-04                  471\n",
       "7967 2022-02-05                  446\n",
       "7968 2022-02-06                  425\n",
       "7969 2022-02-07                   34\n",
       "\n",
       "[7970 rows x 2 columns]"
      ]
     },
     "execution_count": 14,
     "metadata": {},
     "output_type": "execute_result"
    }
   ],
   "source": [
    "daycount=daycount.rename(columns={'incident_number': 'number_of_incidents'})\n",
    "daycount=daycount.reset_index()\n",
    "daycount"
   ]
  },
  {
   "cell_type": "code",
   "execution_count": null,
   "metadata": {},
   "outputs": [],
   "source": [
    "daycount.to_excel('Fire_Department_Calls_for_Service_daycount.xlsx',index=False)"
   ]
  },
  {
   "cell_type": "code",
   "execution_count": 15,
   "metadata": {},
   "outputs": [
    {
     "data": {
      "text/plain": [
       "San Francisco      5717350\n",
       "Treasure Island      25555\n",
       "Presidio             22372\n",
       "Yerba Buena           3229\n",
       "Fort Mason            3141\n",
       "Hunters Point         2391\n",
       "Daly City             1617\n",
       "Brisbane               449\n",
       "Oakland                244\n",
       "Angel Island            35\n",
       "Name: city, dtype: int64"
      ]
     },
     "execution_count": 15,
     "metadata": {},
     "output_type": "execute_result"
    }
   ],
   "source": [
    "data.city.value_counts()"
   ]
  },
  {
   "cell_type": "markdown",
   "metadata": {},
   "source": [
    "### Dealing with the other NANs"
   ]
  },
  {
   "cell_type": "code",
   "execution_count": 16,
   "metadata": {},
   "outputs": [
    {
     "data": {
      "text/plain": [
       "call_number                                  0\n",
       "unit_id                                      0\n",
       "incident_number                              0\n",
       "call_type                                    0\n",
       "call_date                                    0\n",
       "watch_date                                   0\n",
       "received_dttm                                0\n",
       "entry_dttm                                   0\n",
       "dispatch_dttm                                0\n",
       "response_dttm                           427320\n",
       "on_scene_dttm                          1288700\n",
       "transport_dttm                         4260632\n",
       "hospital_dttm                          4397052\n",
       "call_final_disposition                       0\n",
       "available_dttm                           77072\n",
       "address                                      0\n",
       "city                                      8602\n",
       "zipcode_of_incident                      14653\n",
       "battalion                                    0\n",
       "station_area                              2397\n",
       "box                                        465\n",
       "original_priority                            0\n",
       "priority                                     0\n",
       "final_priority                               0\n",
       "als_unit                                     0\n",
       "call_type_group                        2815463\n",
       "number_of_alarms                             0\n",
       "unit_type                                    0\n",
       "unit_sequence_in_call_dispatch              72\n",
       "fire_prevention_district                     0\n",
       "supervisor_district                          0\n",
       "neighborhooods__analysis_boundaries          0\n",
       "rowid                                        0\n",
       "case_location                              946\n",
       "analysis_neighborhoods                   17487\n",
       "longitude                                    0\n",
       "latitude                                     0\n",
       "iyear                                        0\n",
       "iweekday                                     0\n",
       "imonth                                       0\n",
       "dtype: int64"
      ]
     },
     "execution_count": 16,
     "metadata": {},
     "output_type": "execute_result"
    }
   ],
   "source": [
    "data.isna().sum()"
   ]
  },
  {
   "cell_type": "markdown",
   "metadata": {},
   "source": [
    "In general all missing time-variables can't be filled rational or a filling of these fields does not make sense (patient transport time for a firetruck).\n"
   ]
  },
  {
   "cell_type": "markdown",
   "metadata": {},
   "source": [
    "For area specific variables like `city`,`zipcode_of_incident` and `station_area` there exist two methodes how the NANs can be filled. \n",
    "1. Use a saved map and the `case_locations` (`longitude` and `latitude` coordinates) to get the missing entries of the these entries.\n",
    "1. Using KNN-models to fill the missing entries with the value of the next neighbors.  \n",
    "\n",
    "Because of the big size of the dataset the implementation would take too much time for this project."
   ]
  },
  {
   "cell_type": "markdown",
   "metadata": {},
   "source": [
    "`call_type_group` should correlate with the `call_type`. But a first comparison with value_count() of the different `call_type_groups` seems that the distribution of this variable is to random and the number of NANs to big so that the sinfull filling of the entries can't made in a first instance. So here this variable will be not used."
   ]
  },
  {
   "cell_type": "markdown",
   "metadata": {},
   "source": [
    "`unit_sequence_in_call_dispatch` refers to the order of the units on which they were called to the incident. In this case the NANs can be filled with a 1."
   ]
  },
  {
   "cell_type": "code",
   "execution_count": 22,
   "metadata": {},
   "outputs": [
    {
     "data": {
      "text/plain": [
       "call_number                                  0\n",
       "unit_id                                      0\n",
       "incident_number                              0\n",
       "call_type                                    0\n",
       "call_date                                    0\n",
       "watch_date                                   0\n",
       "received_dttm                                0\n",
       "entry_dttm                                   0\n",
       "dispatch_dttm                                0\n",
       "response_dttm                           427320\n",
       "on_scene_dttm                          1288700\n",
       "transport_dttm                         4260632\n",
       "hospital_dttm                          4397052\n",
       "call_final_disposition                       0\n",
       "available_dttm                           77072\n",
       "address                                      0\n",
       "city                                      8602\n",
       "zipcode_of_incident                      14653\n",
       "battalion                                    0\n",
       "station_area                              2397\n",
       "box                                        465\n",
       "original_priority                            0\n",
       "priority                                     0\n",
       "final_priority                               0\n",
       "als_unit                                     0\n",
       "call_type_group                        2815463\n",
       "number_of_alarms                             0\n",
       "unit_type                                    0\n",
       "unit_sequence_in_call_dispatch               0\n",
       "fire_prevention_district                     0\n",
       "supervisor_district                          0\n",
       "neighborhooods__analysis_boundaries          0\n",
       "rowid                                        0\n",
       "case_location                              946\n",
       "analysis_neighborhoods                   17487\n",
       "longitude                                    0\n",
       "latitude                                     0\n",
       "iyear                                        0\n",
       "iweekday                                     0\n",
       "imonth                                       0\n",
       "dtype: int64"
      ]
     },
     "execution_count": 22,
     "metadata": {},
     "output_type": "execute_result"
    }
   ],
   "source": [
    "data.unit_sequence_in_call_dispatch=data.unit_sequence_in_call_dispatch.fillna(1)\n",
    "data.isna().sum()"
   ]
  },
  {
   "cell_type": "markdown",
   "metadata": {},
   "source": [
    "### Hypothesis Test"
   ]
  },
  {
   "cell_type": "markdown",
   "metadata": {},
   "source": [
    "In this project there were no special question, that had to be answered. So here for an example it will be looked if between call and entrence of help takes less then 8 minutes."
   ]
  },
  {
   "cell_type": "code",
   "execution_count": 23,
   "metadata": {},
   "outputs": [],
   "source": [
    "data2=data[~data.on_scene_dttm.isna()]"
   ]
  },
  {
   "cell_type": "code",
   "execution_count": 31,
   "metadata": {},
   "outputs": [
    {
     "name": "stderr",
     "output_type": "stream",
     "text": [
      "C:\\Users\\lahrm\\AppData\\Local\\Temp/ipykernel_1552/1085763585.py:1: SettingWithCopyWarning: \n",
      "A value is trying to be set on a copy of a slice from a DataFrame.\n",
      "Try using .loc[row_indexer,col_indexer] = value instead\n",
      "\n",
      "See the caveats in the documentation: https://pandas.pydata.org/pandas-docs/stable/user_guide/indexing.html#returning-a-view-versus-a-copy\n",
      "  data2['deltime']=data2.on_scene_dttm-data2.received_dttm\n"
     ]
    },
    {
     "data": {
      "text/plain": [
       "0    11.0\n",
       "1     8.0\n",
       "3     5.0\n",
       "4     6.0\n",
       "5     6.0\n",
       "Name: deltime, dtype: float64"
      ]
     },
     "execution_count": 31,
     "metadata": {},
     "output_type": "execute_result"
    }
   ],
   "source": [
    "data2['deltime']=data2.on_scene_dttm-data2.received_dttm\n",
    "data2.deltime.apply(lambda x: x.total_seconds()//60).head()"
   ]
  },
  {
   "cell_type": "code",
   "execution_count": 34,
   "metadata": {},
   "outputs": [
    {
     "name": "stdout",
     "output_type": "stream",
     "text": [
      "stat: 8.027938650787862\n",
      "pval: 9.914762345619455e-16\n"
     ]
    },
    {
     "data": {
      "text/plain": [
       "8.337783970544573"
      ]
     },
     "execution_count": 34,
     "metadata": {},
     "output_type": "execute_result"
    }
   ],
   "source": [
    "from scipy.stats import ttest_1samp\n",
    "stat, pval = ttest_1samp(data2.deltime.apply(lambda x: x.total_seconds()//60),8)\n",
    "print('stat:',stat)\n",
    "print('pval:',pval)\n",
    "data2.deltime.apply(lambda x: x.total_seconds()//60).mean()"
   ]
  },
  {
   "cell_type": "markdown",
   "metadata": {},
   "source": [
    "We can disprove that the Fire Department of San Francisco can garantue a entrence time of less then 8 minutes. But here we also include the entrance time of the 2nd, 3rd, 4th ... car and the fact that if a incident does not have a high priority, the fire trucks and ambulence cars drive slover."
   ]
  }
 ],
 "metadata": {
  "interpreter": {
   "hash": "e956ae00da0b923c53eac0ba781c2d63e37e4818bc4e157197045199dda01c2a"
  },
  "kernelspec": {
   "display_name": "Python 3.9.7 ('base')",
   "language": "python",
   "name": "python3"
  },
  "language_info": {
   "codemirror_mode": {
    "name": "ipython",
    "version": 3
   },
   "file_extension": ".py",
   "mimetype": "text/x-python",
   "name": "python",
   "nbconvert_exporter": "python",
   "pygments_lexer": "ipython3",
   "version": "3.9.7"
  },
  "orig_nbformat": 4
 },
 "nbformat": 4,
 "nbformat_minor": 2
}
